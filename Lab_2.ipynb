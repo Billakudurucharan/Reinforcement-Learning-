{
  "nbformat": 4,
  "nbformat_minor": 0,
  "metadata": {
    "colab": {
      "provenance": [],
      "authorship_tag": "ABX9TyPuyOt13BQTL20VwQNKsQ5A",
      "include_colab_link": true
    },
    "kernelspec": {
      "name": "python3",
      "display_name": "Python 3"
    },
    "language_info": {
      "name": "python"
    }
  },
  "cells": [
    {
      "cell_type": "markdown",
      "metadata": {
        "id": "view-in-github",
        "colab_type": "text"
      },
      "source": [
        "<a href=\"https://colab.research.google.com/github/Billakudurucharan/Reinforcement-Learning-/blob/main/Lab_2.ipynb\" target=\"_parent\"><img src=\"https://colab.research.google.com/assets/colab-badge.svg\" alt=\"Open In Colab\"/></a>"
      ]
    },
    {
      "cell_type": "markdown",
      "source": [
        "IMPLEMENTING MONTE CARLO METHODS FOR POLICY EVALUATION AND **CONTROL**"
      ],
      "metadata": {
        "id": "JRJdRfKo2_QE"
      }
    },
    {
      "cell_type": "code",
      "execution_count": 1,
      "metadata": {
        "id": "znw7x6s22-Tf"
      },
      "outputs": [],
      "source": [
        "import gymnasium as gym\n",
        "import numpy as np\n",
        "from collections import defaultdict"
      ]
    },
    {
      "cell_type": "code",
      "source": [
        "env = gym.make('Blackjack-v1', sab=True)\n",
        "\n",
        "# Function to create a random policy\n",
        "def create_random_policy(env):\n",
        "    return lambda state: np.random.choice(env.action_space.n)\n",
        "\n",
        "# Function to create a greedy policy based on Q-values\n",
        "def create_greedy_policy(Q):\n",
        "    def policy_fn(state):\n",
        "        return np.argmax(Q[state])\n",
        "    return policy_fn"
      ],
      "metadata": {
        "id": "VSO8hTEI3H9z"
      },
      "execution_count": 2,
      "outputs": []
    },
    {
      "cell_type": "code",
      "source": [
        "def mc_policy_evaluation(policy, env, num_episodes, gamma=1.0):\n",
        "    returns_sum = defaultdict(float)\n",
        "    returns_count = defaultdict(float)\n",
        "    V = defaultdict(float)\n",
        "\n",
        "    for _ in range(num_episodes):\n",
        "        episode = []\n",
        "        state = env.reset()[0]\n",
        "        done = False\n",
        "\n",
        "        while not done:\n",
        "            action = policy(state)\n",
        "            next_state, reward, terminated, truncated, _ = env.step(action)\n",
        "            done = terminated or truncated # Blackjack env can be terminated or truncated\n",
        "            episode.append((state, action, reward))\n",
        "            state = next_state\n",
        "\n",
        "        visited_states = set()\n",
        "        G = 0\n",
        "        for state, action, reward in reversed(episode):\n",
        "            G = gamma * G + reward\n",
        "            if state not in visited_states:\n",
        "                returns_sum[state] += G\n",
        "                returns_count[state] += 1\n",
        "                V[state] = returns_sum[state] / returns_count[state]\n",
        "                visited_states.add(state)\n",
        "    return V"
      ],
      "metadata": {
        "id": "uklWCeJO3Lyz"
      },
      "execution_count": 3,
      "outputs": []
    },
    {
      "cell_type": "code",
      "source": [
        "def mc_control_epsilon_greedy(env, num_episodes, gamma=1.0, epsilon=0.1):\n",
        "    Q = defaultdict(lambda: np.zeros(env.action_space.n))\n",
        "\n",
        "    def policy_fn(state):\n",
        "        if np.random.rand() < epsilon:\n",
        "            return np.random.choice(env.action_space.n)\n",
        "        else:\n",
        "            return np.argmax(Q[state])\n",
        "\n",
        "    for _ in range(num_episodes):\n",
        "        episode = []\n",
        "        state = env.reset()[0]\n",
        "        done = False\n",
        "\n",
        "        while not done:\n",
        "            action = policy_fn(state)\n",
        "            next_state, reward, terminated, truncated, _ = env.step(action)\n",
        "            done = terminated or truncated # Blackjack env can be terminated or truncated\n",
        "            episode.append((state, action, reward))\n",
        "            state = next_state\n",
        "\n",
        "        visited_state_action_pairs = set()\n",
        "        G = 0\n",
        "        for state, action, reward in reversed(episode):\n",
        "            G = gamma * G + reward\n",
        "            if (state, action) not in visited_state_action_pairs:\n",
        "                old_q = Q[state][action]\n",
        "                Q[state][action] = old_q + (G - old_q) / (1 + sum(1 for s, a, r in episode if s == state and a == action))\n",
        "                visited_state_action_pairs.add((state, action))\n",
        "\n",
        "    return Q, create_greedy_policy(Q)"
      ],
      "metadata": {
        "id": "vN0Z9FnL3QUr"
      },
      "execution_count": 4,
      "outputs": []
    },
    {
      "cell_type": "code",
      "source": [
        "if __name__ == \"__main__\":\n",
        "    random_policy = create_random_policy(env)\n",
        "\n",
        "    print(\"Evaluating random policy...\")\n",
        "    V = mc_policy_evaluation(random_policy, env, num_episodes=50000)\n",
        "    print(\"Value function for random policy (sample):\")\n",
        "    for i, (state, value) in enumerate(list(V.items())[:10]):\n",
        "        print(f\"State: {state}, Value: {value:.2f}\")\n",
        "\n",
        "    print(\"\\nTraining control policy with epsilon-greedy strategy...\")\n",
        "    Q, greedy_policy = mc_control_epsilon_greedy(env, num_episodes=500000)\n",
        "    print(\"Learned Q-values (sample):\")\n",
        "    for i, (state, actions) in enumerate(list(Q.items())[:10]):\n",
        "        print(f\"State: {state}, Actions: {actions}\")"
      ],
      "metadata": {
        "colab": {
          "base_uri": "https://localhost:8080/"
        },
        "id": "pFtlJ6Er3UoL",
        "outputId": "a79e5545-c534-4068-9961-e6ba2f0aab57"
      },
      "execution_count": 5,
      "outputs": [
        {
          "output_type": "stream",
          "name": "stdout",
          "text": [
            "Evaluating random policy...\n",
            "Value function for random policy (sample):\n",
            "State: (19, 10, 0), Value: -0.46\n",
            "State: (16, 9, 0), Value: -0.62\n",
            "State: (15, 9, 0), Value: -0.62\n",
            "State: (19, 9, 1), Value: -0.08\n",
            "State: (13, 8, 0), Value: -0.55\n",
            "State: (14, 10, 0), Value: -0.66\n",
            "State: (16, 5, 0), Value: -0.33\n",
            "State: (17, 7, 0), Value: -0.46\n",
            "State: (14, 4, 0), Value: -0.48\n",
            "State: (9, 10, 0), Value: -0.51\n",
            "\n",
            "Training control policy with epsilon-greedy strategy...\n",
            "Learned Q-values (sample):\n",
            "State: (19, 10, 0), Actions: [ 0.96910556 -0.99975572]\n",
            "State: (12, 9, 0), Actions: [-0.69531059  0.17067103]\n",
            "State: (17, 8, 0), Actions: [ 0.30132111 -0.93734439]\n",
            "State: (12, 6, 0), Actions: [-0.99507856 -0.43139532]\n",
            "State: (15, 2, 0), Actions: [ 0.00470257 -0.99984339]\n",
            "State: (15, 10, 0), Actions: [-0.98150253 -0.97656059]\n",
            "State: (12, 8, 1), Actions: [ 0.03911233 -0.93117195]\n",
            "State: (20, 7, 0), Actions: [ 0.99944876 -0.99975204]\n",
            "State: (16, 5, 1), Actions: [ 0.19311079 -0.85766286]\n",
            "State: (14, 10, 0), Actions: [-0.96862775 -0.85839842]\n"
          ]
        }
      ]
    }
  ]
}